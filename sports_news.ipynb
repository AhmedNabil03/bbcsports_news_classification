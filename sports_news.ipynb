{
 "cells": [
  {
   "cell_type": "markdown",
   "id": "99a48c37",
   "metadata": {},
   "source": [
    "### Importing Libraries"
   ]
  },
  {
   "cell_type": "code",
   "execution_count": 1,
   "id": "53affb5d-d73e-4634-9261-a524ba2c7f0e",
   "metadata": {},
   "outputs": [],
   "source": [
    "import numpy as np\n",
    "import pandas as pd\n",
    "import matplotlib.pyplot as plt\n",
    "import seaborn as sns\n",
    "import os"
   ]
  },
  {
   "cell_type": "markdown",
   "id": "d37adc9c",
   "metadata": {},
   "source": [
    "### Reading Data"
   ]
  },
  {
   "cell_type": "code",
   "execution_count": 2,
   "id": "c4bc2ba1",
   "metadata": {},
   "outputs": [],
   "source": [
    "folder_path = 'bbcsport'\n",
    "\n",
    "data = []\n",
    "labels = []\n",
    "for sport_folder in os.listdir(folder_path):\n",
    "    sport_folder_path = os.path.join(folder_path, sport_folder)\n",
    "    if os.path.isdir(sport_folder_path):\n",
    "        for txt_file in os.listdir(sport_folder_path):\n",
    "            txt_file_path = os.path.join(sport_folder_path, txt_file)\n",
    "            with open(txt_file_path, 'r', encoding='utf-8') as file:\n",
    "                data.append(file.read())\n",
    "                labels.append(sport_folder)\n",
    "\n",
    "df = pd.DataFrame({'text': data, 'label': labels})"
   ]
  },
  {
   "cell_type": "markdown",
   "id": "c7b1b8dc",
   "metadata": {},
   "source": [
    "### Data Exploration"
   ]
  },
  {
   "cell_type": "code",
   "execution_count": 3,
   "id": "68e61762",
   "metadata": {},
   "outputs": [
    {
     "data": {
      "text/html": [
       "<div>\n",
       "<style scoped>\n",
       "    .dataframe tbody tr th:only-of-type {\n",
       "        vertical-align: middle;\n",
       "    }\n",
       "\n",
       "    .dataframe tbody tr th {\n",
       "        vertical-align: top;\n",
       "    }\n",
       "\n",
       "    .dataframe thead th {\n",
       "        text-align: right;\n",
       "    }\n",
       "</style>\n",
       "<table border=\"1\" class=\"dataframe\">\n",
       "  <thead>\n",
       "    <tr style=\"text-align: right;\">\n",
       "      <th></th>\n",
       "      <th>text</th>\n",
       "      <th>label</th>\n",
       "    </tr>\n",
       "  </thead>\n",
       "  <tbody>\n",
       "    <tr>\n",
       "      <th>167</th>\n",
       "      <td>England require extra 'intensity'\\n\\nBatsman G...</td>\n",
       "      <td>cricket</td>\n",
       "    </tr>\n",
       "    <tr>\n",
       "      <th>571</th>\n",
       "      <td>Williams stays on despite dispute\\n\\nMatt Will...</td>\n",
       "      <td>rugby</td>\n",
       "    </tr>\n",
       "    <tr>\n",
       "      <th>44</th>\n",
       "      <td>Trial date is set for Balco case\\n\\nA US judge...</td>\n",
       "      <td>athletics</td>\n",
       "    </tr>\n",
       "    <tr>\n",
       "      <th>608</th>\n",
       "      <td>Scrum-half Williams rejoins Bath\\n\\nBath have ...</td>\n",
       "      <td>rugby</td>\n",
       "    </tr>\n",
       "    <tr>\n",
       "      <th>233</th>\n",
       "      <td>Duff ruled out of Barcelona clash\\n\\nChelsea's...</td>\n",
       "      <td>football</td>\n",
       "    </tr>\n",
       "  </tbody>\n",
       "</table>\n",
       "</div>"
      ],
      "text/plain": [
       "                                                  text      label\n",
       "167  England require extra 'intensity'\\n\\nBatsman G...    cricket\n",
       "571  Williams stays on despite dispute\\n\\nMatt Will...      rugby\n",
       "44   Trial date is set for Balco case\\n\\nA US judge...  athletics\n",
       "608  Scrum-half Williams rejoins Bath\\n\\nBath have ...      rugby\n",
       "233  Duff ruled out of Barcelona clash\\n\\nChelsea's...   football"
      ]
     },
     "execution_count": 3,
     "metadata": {},
     "output_type": "execute_result"
    }
   ],
   "source": [
    "df.sample(5)"
   ]
  },
  {
   "cell_type": "code",
   "execution_count": 4,
   "id": "c9141e1c",
   "metadata": {},
   "outputs": [
    {
     "data": {
      "text/plain": [
       "(737, 2)"
      ]
     },
     "execution_count": 4,
     "metadata": {},
     "output_type": "execute_result"
    }
   ],
   "source": [
    "df.shape"
   ]
  },
  {
   "cell_type": "code",
   "execution_count": 5,
   "id": "771bb57c",
   "metadata": {},
   "outputs": [
    {
     "name": "stdout",
     "output_type": "stream",
     "text": [
      "<class 'pandas.core.frame.DataFrame'>\n",
      "RangeIndex: 737 entries, 0 to 736\n",
      "Data columns (total 2 columns):\n",
      " #   Column  Non-Null Count  Dtype \n",
      "---  ------  --------------  ----- \n",
      " 0   text    737 non-null    object\n",
      " 1   label   737 non-null    object\n",
      "dtypes: object(2)\n",
      "memory usage: 11.6+ KB\n"
     ]
    }
   ],
   "source": [
    "df.info()"
   ]
  },
  {
   "cell_type": "code",
   "execution_count": 6,
   "id": "8a4f53b5",
   "metadata": {},
   "outputs": [
    {
     "data": {
      "text/plain": [
       "text     0\n",
       "label    0\n",
       "dtype: int64"
      ]
     },
     "execution_count": 6,
     "metadata": {},
     "output_type": "execute_result"
    }
   ],
   "source": [
    "df.isnull().sum()"
   ]
  },
  {
   "cell_type": "code",
   "execution_count": 7,
   "id": "20d67c1a",
   "metadata": {},
   "outputs": [
    {
     "data": {
      "text/plain": [
       "10"
      ]
     },
     "execution_count": 7,
     "metadata": {},
     "output_type": "execute_result"
    }
   ],
   "source": [
    "df.duplicated().sum()"
   ]
  },
  {
   "cell_type": "code",
   "execution_count": 8,
   "id": "1dcf7b0f",
   "metadata": {},
   "outputs": [],
   "source": [
    "df = df.drop_duplicates(keep='first')"
   ]
  },
  {
   "cell_type": "code",
   "execution_count": 9,
   "id": "4a75e0bd",
   "metadata": {},
   "outputs": [
    {
     "data": {
      "text/plain": [
       "0"
      ]
     },
     "execution_count": 9,
     "metadata": {},
     "output_type": "execute_result"
    }
   ],
   "source": [
    "df.duplicated().sum()"
   ]
  },
  {
   "cell_type": "markdown",
   "id": "5611052d",
   "metadata": {},
   "source": [
    "### Data Preprocessing"
   ]
  },
  {
   "cell_type": "code",
   "execution_count": 10,
   "id": "373c9c4c",
   "metadata": {},
   "outputs": [
    {
     "data": {
      "text/plain": [
       "label\n",
       "football     262\n",
       "rugby        146\n",
       "cricket      121\n",
       "athletics     99\n",
       "tennis        99\n",
       "Name: count, dtype: int64"
      ]
     },
     "execution_count": 10,
     "metadata": {},
     "output_type": "execute_result"
    }
   ],
   "source": [
    "df['label'].value_counts()"
   ]
  },
  {
   "cell_type": "code",
   "execution_count": 11,
   "id": "636a3d12",
   "metadata": {},
   "outputs": [],
   "source": [
    "label_map = {'football': 0, 'rugby': 1, 'cricket': 2, 'athletics': 3, 'tennis': 4}\n",
    "df['label'] = df['label'].map(label_map)"
   ]
  },
  {
   "cell_type": "code",
   "execution_count": 12,
   "id": "26c034a0",
   "metadata": {},
   "outputs": [
    {
     "data": {
      "text/html": [
       "<div>\n",
       "<style scoped>\n",
       "    .dataframe tbody tr th:only-of-type {\n",
       "        vertical-align: middle;\n",
       "    }\n",
       "\n",
       "    .dataframe tbody tr th {\n",
       "        vertical-align: top;\n",
       "    }\n",
       "\n",
       "    .dataframe thead th {\n",
       "        text-align: right;\n",
       "    }\n",
       "</style>\n",
       "<table border=\"1\" class=\"dataframe\">\n",
       "  <thead>\n",
       "    <tr style=\"text-align: right;\">\n",
       "      <th></th>\n",
       "      <th>text</th>\n",
       "      <th>label</th>\n",
       "    </tr>\n",
       "  </thead>\n",
       "  <tbody>\n",
       "    <tr>\n",
       "      <th>108</th>\n",
       "      <td>Bracewell worried by Lee\\n\\nNew Zealand coach ...</td>\n",
       "      <td>2</td>\n",
       "    </tr>\n",
       "    <tr>\n",
       "      <th>9</th>\n",
       "      <td>Collins to compete in Birmingham\\n\\nWorld and ...</td>\n",
       "      <td>3</td>\n",
       "    </tr>\n",
       "    <tr>\n",
       "      <th>473</th>\n",
       "      <td>Charlton 1-2 Liverpool\\n\\nFernando Morientes g...</td>\n",
       "      <td>0</td>\n",
       "    </tr>\n",
       "    <tr>\n",
       "      <th>202</th>\n",
       "      <td>ICC relaxes bowling regulations\\n\\nThe Interna...</td>\n",
       "      <td>2</td>\n",
       "    </tr>\n",
       "    <tr>\n",
       "      <th>701</th>\n",
       "      <td>Koubek suspended after drugs test\\n\\nStefan Ko...</td>\n",
       "      <td>4</td>\n",
       "    </tr>\n",
       "  </tbody>\n",
       "</table>\n",
       "</div>"
      ],
      "text/plain": [
       "                                                  text  label\n",
       "108  Bracewell worried by Lee\\n\\nNew Zealand coach ...      2\n",
       "9    Collins to compete in Birmingham\\n\\nWorld and ...      3\n",
       "473  Charlton 1-2 Liverpool\\n\\nFernando Morientes g...      0\n",
       "202  ICC relaxes bowling regulations\\n\\nThe Interna...      2\n",
       "701  Koubek suspended after drugs test\\n\\nStefan Ko...      4"
      ]
     },
     "execution_count": 12,
     "metadata": {},
     "output_type": "execute_result"
    }
   ],
   "source": [
    "df.sample(5)"
   ]
  },
  {
   "cell_type": "code",
   "execution_count": 13,
   "id": "45a957dd",
   "metadata": {},
   "outputs": [],
   "source": [
    "import re"
   ]
  },
  {
   "cell_type": "code",
   "execution_count": 14,
   "id": "26a0d1a8",
   "metadata": {},
   "outputs": [],
   "source": [
    "from nltk.corpus import stopwords\n",
    "from nltk.stem import SnowballStemmer"
   ]
  },
  {
   "cell_type": "code",
   "execution_count": 15,
   "id": "7ca58f6f",
   "metadata": {},
   "outputs": [],
   "source": [
    "stop_words = set(stopwords.words('english'))\n",
    "stemmer = SnowballStemmer('english')"
   ]
  },
  {
   "cell_type": "code",
   "execution_count": 16,
   "id": "dd8797a1",
   "metadata": {},
   "outputs": [],
   "source": [
    "def text_preprocessing(col):\n",
    "    # Lower case\n",
    "    col = col.str.lower()\n",
    "\n",
    "    # Removing stopwords and words with length=1\n",
    "    col = col.apply(lambda x: ' '.join(word for word in x.split() if word not in stop_words and len(word) > 1))\n",
    "    \n",
    "    # Removing numbers\n",
    "    col = col.apply(lambda x: re.sub(r'[0-9]', '', x)) \n",
    "    \n",
    "    # Removing extra spaces\n",
    "    col = col.apply(lambda x: re.sub(r'\\s+', ' ', x).strip()) \n",
    "\n",
    "    # Stemming\n",
    "    col = col.apply(lambda x: ' '.join(stemmer.stem(word) for word in str(x).split()))\n",
    "\n",
    "    return col"
   ]
  },
  {
   "cell_type": "code",
   "execution_count": 17,
   "id": "ea68d722",
   "metadata": {},
   "outputs": [],
   "source": [
    "df['text'] = text_preprocessing(df['text'])"
   ]
  },
  {
   "cell_type": "code",
   "execution_count": 18,
   "id": "0ffba008",
   "metadata": {},
   "outputs": [
    {
     "data": {
      "text/html": [
       "<div>\n",
       "<style scoped>\n",
       "    .dataframe tbody tr th:only-of-type {\n",
       "        vertical-align: middle;\n",
       "    }\n",
       "\n",
       "    .dataframe tbody tr th {\n",
       "        vertical-align: top;\n",
       "    }\n",
       "\n",
       "    .dataframe thead th {\n",
       "        text-align: right;\n",
       "    }\n",
       "</style>\n",
       "<table border=\"1\" class=\"dataframe\">\n",
       "  <thead>\n",
       "    <tr style=\"text-align: right;\">\n",
       "      <th></th>\n",
       "      <th>text</th>\n",
       "      <th>label</th>\n",
       "    </tr>\n",
       "  </thead>\n",
       "  <tbody>\n",
       "    <tr>\n",
       "      <th>307</th>\n",
       "      <td>thompson say gerrard stay liverpool legend phi...</td>\n",
       "      <td>0</td>\n",
       "    </tr>\n",
       "    <tr>\n",
       "      <th>296</th>\n",
       "      <td>prutton pois lengthi fa ban southampton david ...</td>\n",
       "      <td>0</td>\n",
       "    </tr>\n",
       "    <tr>\n",
       "      <th>61</th>\n",
       "      <td>brizzel run aaa sheffield ballymena sprinter p...</td>\n",
       "      <td>3</td>\n",
       "    </tr>\n",
       "    <tr>\n",
       "      <th>537</th>\n",
       "      <td>o'driscoll/gregan lead aid star ireland brian ...</td>\n",
       "      <td>1</td>\n",
       "    </tr>\n",
       "    <tr>\n",
       "      <th>104</th>\n",
       "      <td>pakistan reveng mission pakistan cricket depar...</td>\n",
       "      <td>2</td>\n",
       "    </tr>\n",
       "  </tbody>\n",
       "</table>\n",
       "</div>"
      ],
      "text/plain": [
       "                                                  text  label\n",
       "307  thompson say gerrard stay liverpool legend phi...      0\n",
       "296  prutton pois lengthi fa ban southampton david ...      0\n",
       "61   brizzel run aaa sheffield ballymena sprinter p...      3\n",
       "537  o'driscoll/gregan lead aid star ireland brian ...      1\n",
       "104  pakistan reveng mission pakistan cricket depar...      2"
      ]
     },
     "execution_count": 18,
     "metadata": {},
     "output_type": "execute_result"
    }
   ],
   "source": [
    "df.sample(5)"
   ]
  },
  {
   "cell_type": "markdown",
   "id": "f7639f9c",
   "metadata": {},
   "source": [
    "### Data Splitting"
   ]
  },
  {
   "cell_type": "code",
   "execution_count": 19,
   "id": "9b0e9f8d",
   "metadata": {},
   "outputs": [],
   "source": [
    "X = df['text']\n",
    "y = df['label']"
   ]
  },
  {
   "cell_type": "code",
   "execution_count": 20,
   "id": "9e651081",
   "metadata": {},
   "outputs": [],
   "source": [
    "from sklearn.model_selection import train_test_split\n",
    "X_train, X_test, y_train, y_test = train_test_split(X, y, test_size=0.2, stratify=y, random_state=31)"
   ]
  },
  {
   "cell_type": "code",
   "execution_count": 21,
   "id": "4974bef1",
   "metadata": {},
   "outputs": [],
   "source": [
    "from sklearn.feature_extraction.text import TfidfVectorizer\n",
    "vectorizer = TfidfVectorizer(max_features=6000)\n",
    "X_train = vectorizer.fit_transform(X_train)\n",
    "X_test = vectorizer.transform(X_test)"
   ]
  },
  {
   "cell_type": "code",
   "execution_count": 22,
   "id": "d0e5fad8",
   "metadata": {},
   "outputs": [
    {
     "name": "stdout",
     "output_type": "stream",
     "text": [
      "(581, 6000)\n",
      "(146, 6000)\n"
     ]
    }
   ],
   "source": [
    "print(X_train.shape)\n",
    "print(X_test.shape)"
   ]
  },
  {
   "cell_type": "markdown",
   "id": "e9dc57d8",
   "metadata": {},
   "source": [
    "### Data Modeling"
   ]
  },
  {
   "cell_type": "code",
   "execution_count": 23,
   "id": "e88f8ae5",
   "metadata": {},
   "outputs": [],
   "source": [
    "from sklearn.naive_bayes import MultinomialNB\n",
    "from sklearn.metrics import accuracy_score, classification_report, confusion_matrix"
   ]
  },
  {
   "cell_type": "code",
   "execution_count": 24,
   "id": "ce9e1663",
   "metadata": {},
   "outputs": [],
   "source": [
    "mnb = MultinomialNB(alpha=.1)\n",
    "mnb.fit(X_train, y_train)\n",
    "y_pred = mnb.predict(X_test)"
   ]
  },
  {
   "cell_type": "code",
   "execution_count": 25,
   "id": "18277b7d",
   "metadata": {},
   "outputs": [
    {
     "name": "stdout",
     "output_type": "stream",
     "text": [
      "Train Accuracy 1.0\n",
      "Classification Report:\n",
      "               precision    recall  f1-score   support\n",
      "\n",
      "           0       1.00      1.00      1.00       209\n",
      "           1       1.00      1.00      1.00       117\n",
      "           2       1.00      1.00      1.00        97\n",
      "           3       1.00      1.00      1.00        79\n",
      "           4       1.00      1.00      1.00        79\n",
      "\n",
      "    accuracy                           1.00       581\n",
      "   macro avg       1.00      1.00      1.00       581\n",
      "weighted avg       1.00      1.00      1.00       581\n",
      "\n",
      "Confusion Matrix:\n",
      " [[209   0   0   0   0]\n",
      " [  0 117   0   0   0]\n",
      " [  0   0  97   0   0]\n",
      " [  0   0   0  79   0]\n",
      " [  0   0   0   0  79]]\n"
     ]
    }
   ],
   "source": [
    "print('Train Accuracy', accuracy_score(y_train, mnb.predict(X_train)))\n",
    "print('Classification Report:\\n', classification_report(y_train, mnb.predict(X_train)))\n",
    "print('Confusion Matrix:\\n', confusion_matrix(y_train, mnb.predict(X_train)))"
   ]
  },
  {
   "cell_type": "code",
   "execution_count": 26,
   "id": "c099f0bc",
   "metadata": {},
   "outputs": [
    {
     "name": "stdout",
     "output_type": "stream",
     "text": [
      "Test Accuracy 1.0\n",
      "Classification Report:\n",
      "               precision    recall  f1-score   support\n",
      "\n",
      "           0       1.00      1.00      1.00        53\n",
      "           1       1.00      1.00      1.00        29\n",
      "           2       1.00      1.00      1.00        24\n",
      "           3       1.00      1.00      1.00        20\n",
      "           4       1.00      1.00      1.00        20\n",
      "\n",
      "    accuracy                           1.00       146\n",
      "   macro avg       1.00      1.00      1.00       146\n",
      "weighted avg       1.00      1.00      1.00       146\n",
      "\n",
      "Confusion Matrix:\n",
      " [[53  0  0  0  0]\n",
      " [ 0 29  0  0  0]\n",
      " [ 0  0 24  0  0]\n",
      " [ 0  0  0 20  0]\n",
      " [ 0  0  0  0 20]]\n"
     ]
    }
   ],
   "source": [
    "print('Test Accuracy', accuracy_score(y_test, y_pred))\n",
    "print('Classification Report:\\n', classification_report(y_test, y_pred))\n",
    "print('Confusion Matrix:\\n', confusion_matrix(y_test, y_pred))"
   ]
  },
  {
   "cell_type": "markdown",
   "id": "200dc91a",
   "metadata": {},
   "source": [
    "### Saving Models"
   ]
  },
  {
   "cell_type": "code",
   "execution_count": 27,
   "id": "246f3720",
   "metadata": {},
   "outputs": [
    {
     "data": {
      "text/plain": [
       "['sport_model.pkl']"
      ]
     },
     "execution_count": 27,
     "metadata": {},
     "output_type": "execute_result"
    }
   ],
   "source": [
    "import joblib\n",
    "\n",
    "joblib.dump(vectorizer, 'sport_vectorizer.pkl')\n",
    "joblib.dump(mnb, 'sport_model.pkl')"
   ]
  },
  {
   "cell_type": "markdown",
   "id": "6a870be1",
   "metadata": {},
   "source": [
    "### Predicting Function"
   ]
  },
  {
   "cell_type": "code",
   "execution_count": 28,
   "id": "11c45015",
   "metadata": {},
   "outputs": [],
   "source": [
    "def predict_sport_news(text):\n",
    "    model = joblib.load('sport_model.pkl')\n",
    "    vectorizer = joblib.load('sport_vectorizer.pkl')\n",
    "    \n",
    "    # Preprocess the text\n",
    "    text_series = pd.Series([text])\n",
    "    text_series = text_preprocessing(text_series)\n",
    "    text_vectorized = vectorizer.transform(text_series)\n",
    "    \n",
    "    # Predict the class\n",
    "    prediction = model.predict(text_vectorized)[0]\n",
    "    \n",
    "    # Decode the class\n",
    "    label_map_reverse = {v: k for k, v in label_map.items()}\n",
    "    predicted_label = label_map_reverse[prediction]\n",
    "    \n",
    "    return predicted_label\n"
   ]
  },
  {
   "cell_type": "code",
   "execution_count": 29,
   "id": "a526965a",
   "metadata": {},
   "outputs": [
    {
     "name": "stdout",
     "output_type": "stream",
     "text": [
      "The predicted sport for the given news is: cricket\n"
     ]
    }
   ],
   "source": [
    "news = \"Australia secures a dramatic win over England in the Ashes series opener.\"\n",
    "predicted_sport = predict_sport_news(news)\n",
    "print(f\"The predicted sport for the given news is: {predicted_sport}\")"
   ]
  },
  {
   "cell_type": "code",
   "execution_count": null,
   "id": "bae781dc",
   "metadata": {},
   "outputs": [],
   "source": []
  }
 ],
 "metadata": {
  "kernelspec": {
   "display_name": "Python 3",
   "language": "python",
   "name": "python3"
  },
  "language_info": {
   "codemirror_mode": {
    "name": "ipython",
    "version": 3
   },
   "file_extension": ".py",
   "mimetype": "text/x-python",
   "name": "python",
   "nbconvert_exporter": "python",
   "pygments_lexer": "ipython3",
   "version": "3.12.6"
  }
 },
 "nbformat": 4,
 "nbformat_minor": 5
}
